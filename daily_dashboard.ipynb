{
 "cells": [
  {
   "cell_type": "code",
   "execution_count": 5,
   "id": "fd6149ab-c182-47f2-8fa4-ea7c1ee01632",
   "metadata": {},
   "outputs": [
    {
     "name": "stdout",
     "output_type": "stream",
     "text": [
      "Requirement already satisfied: requests in c:\\users\\thist\\anaconda3\\lib\\site-packages (2.31.0)\n",
      "Requirement already satisfied: charset-normalizer<4,>=2 in c:\\users\\thist\\anaconda3\\lib\\site-packages (from requests) (2.0.4)\n",
      "Requirement already satisfied: idna<4,>=2.5 in c:\\users\\thist\\anaconda3\\lib\\site-packages (from requests) (3.4)\n",
      "Requirement already satisfied: urllib3<3,>=1.21.1 in c:\\users\\thist\\anaconda3\\lib\\site-packages (from requests) (2.0.7)\n",
      "Requirement already satisfied: certifi>=2017.4.17 in c:\\users\\thist\\anaconda3\\lib\\site-packages (from requests) (2024.2.2)\n"
     ]
    }
   ],
   "source": [
    "!pip install requests"
   ]
  },
  {
   "cell_type": "code",
   "execution_count": 6,
   "id": "2e844068-907f-4a89-80a5-504a60be6f01",
   "metadata": {},
   "outputs": [],
   "source": [
    "import requests\n",
    "from datetime import datetime"
   ]
  },
  {
   "cell_type": "code",
   "execution_count": 7,
   "id": "79d8be34-8664-41b1-a462-468b1c69b733",
   "metadata": {},
   "outputs": [],
   "source": [
    "def get_quote():\n",
    "    try:\n",
    "        response = requests.get(\"https://zenquotes.io/api/random\")\n",
    "        if response.status_code == 200:\n",
    "            data = response.json()\n",
    "            return f'\"{data[0][\"q\"]}\" - {data[0][\"a\"]}'\n",
    "        else:\n",
    "            return f\"❌ Quote API error: {response.status_code}\"\n",
    "    except Exception as e:\n",
    "        return f\"❌ Quote Error: {str(e)}\""
   ]
  },
  {
   "cell_type": "code",
   "execution_count": 8,
   "id": "dbcfecd6-f813-4403-bf31-b07711e17f20",
   "metadata": {},
   "outputs": [],
   "source": [
    "def get_activity():\n",
    "    try:\n",
    "        response = requests.get(\"https://www.boredapi.com/api/activity\")\n",
    "        if response.status_code == 200:\n",
    "            data = response.json()\n",
    "            return data.get('activity', 'No activity found today 😅')\n",
    "        else:\n",
    "            return f\"❌ Activity API error: {response.status_code}\"\n",
    "    except Exception as e:\n",
    "        return f\"❌ Activity Error: {str(e)}\""
   ]
  },
  {
   "cell_type": "code",
   "execution_count": 9,
   "id": "80d7c1c8-b8b5-429d-9eea-91c1c7036d72",
   "metadata": {},
   "outputs": [],
   "source": [
    "def get_nasa_image():\n",
    "    try:\n",
    "        url = \"https://api.nasa.gov/planetary/apod?api_key=DEMO_KEY\"\n",
    "        response = requests.get(url)\n",
    "        if response.status_code == 200:\n",
    "            data = response.json()\n",
    "            return data['title'], data['url'], data['explanation']\n",
    "        else:\n",
    "            return \"No Title\", \"No Image\", f\"❌ NASA API error: {response.status_code}\"\n",
    "    except Exception as e:\n",
    "        return \"No Title\", \"No Image\", f\"❌ NASA Error: {str(e)}\""
   ]
  },
  {
   "cell_type": "code",
   "execution_count": 11,
   "id": "7862a511-95c2-4f58-a040-14e9b7dcb9f9",
   "metadata": {},
   "outputs": [],
   "source": [
    "import random\n",
    "\n",
    "def get_activity():\n",
    "    fallback_activities = [\n",
    "        \"Write a short story about today\",\n",
    "        \"Dance to your favorite song\",\n",
    "        \"Text someone you miss\",\n",
    "        \"Learn one fun fact about space\",\n",
    "        \"Draw your dream house\",\n",
    "        \"Go outside and look at the clouds\",\n",
    "        \"Try a 5-minute meditation\",\n",
    "        \"Do 10 jumping jacks!\",\n",
    "        \"Compliment yourself in the mirror\",\n",
    "        \"Watch a documentary for 10 mins\"\n",
    "    ]\n",
    "    try:\n",
    "        response = requests.get(\"https://www.boredapi.com/api/activity\", timeout=5)\n",
    "        if response.status_code == 200:\n",
    "            data = response.json()\n",
    "            return data.get('activity', random.choice(fallback_activities))\n",
    "        else:\n",
    "            return random.choice(fallback_activities)\n",
    "    except Exception:\n",
    "        return random.choice(fallback_activities)\n"
   ]
  },
  {
   "cell_type": "code",
   "execution_count": 12,
   "id": "004468d9-2ef2-40cd-b431-73a735bb5d01",
   "metadata": {},
   "outputs": [
    {
     "name": "stdout",
     "output_type": "stream",
     "text": [
      "🗓️ Thursday, April 10, 2025\n",
      "\n",
      "🌟 Quote of the Day:\n",
      "\"\"Happiness is a gift and the trick is not to expect it, but to delight in it when it comes.\" - Charles Dickens\"\n",
      "\n",
      "🎲 Try This Activity:\n",
      "Write a short story about today\n",
      "\n",
      "🌌 NASA Astronomy Picture of the Day:\n",
      "Title: 38 Hours with the M81 Group\n",
      "Image URL: https://apod.nasa.gov/apod/image/2504/38h_M81-group_1024.jpeg\n",
      "Description: From a garden on planet Earth, 38 hours of exposure with a camera and small telescope produced this cosmic photo of the M81 galaxy group. In fact, the group's dominant galaxy M81 is near the center of the frame sporting grand spiral arms and a bright yellow core. Also known as Bode's galaxy, M81 itself spans some 100,000 light-years. Near the top is cigar-shaped irregular galaxy M82.  The pair have been locked in gravitational combat for a billion years. Gravity from each galaxy has profoundly affected the other during a series of cosmic close encounters.  Their last go-round lasted about 100 million years and likely raised density waves rippling around M81, resulting in massive star forming regions arrayed along M81's spiral arms.  M82 was left with violent star forming regions too, and colliding gas clouds so energetic that the galaxy glows in X-rays.  In the next few billion years, their continuing gravitational encounters will result in a merger, and a single galaxy will remain. Another group member, NGC 3077 is below and left of the large spiral M81. Far far away, about 12 million light-years distant the M81 group galaxies are seen toward the northern constellation Ursa Major (the Great Bear). But in the closer foreground the wide-field image is filled with integrated flux nebulae whose faint, dusty interstellar clouds reflect starlight above the plane of our own Milky Way galaxy.\n"
     ]
    }
   ],
   "source": [
    "quote = get_quote()\n",
    "activity = get_activity()\n",
    "title, image_url, explanation = get_nasa_image()\n",
    "\n",
    "print(f\"🗓️ Thursday, April 10, 2025\\n\")\n",
    "print(f\"🌟 Quote of the Day:\\n\\\"{quote}\\\"\\n\")\n",
    "print(f\"🎲 Try This Activity:\\n{activity}\\n\")\n",
    "print(f\"🌌 NASA Astronomy Picture of the Day:\\nTitle: {title}\\nImage URL: {image_url}\\nDescription: {explanation}\")\n"
   ]
  },
  {
   "cell_type": "code",
   "execution_count": null,
   "id": "21b923fe-ac77-49ea-b351-74556fb817b1",
   "metadata": {},
   "outputs": [],
   "source": []
  }
 ],
 "metadata": {
  "kernelspec": {
   "display_name": "Python 3 (ipykernel)",
   "language": "python",
   "name": "python3"
  },
  "language_info": {
   "codemirror_mode": {
    "name": "ipython",
    "version": 3
   },
   "file_extension": ".py",
   "mimetype": "text/x-python",
   "name": "python",
   "nbconvert_exporter": "python",
   "pygments_lexer": "ipython3",
   "version": "3.11.7"
  }
 },
 "nbformat": 4,
 "nbformat_minor": 5
}
